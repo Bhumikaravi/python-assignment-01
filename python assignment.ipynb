{
 "cells": [
  {
   "cell_type": "code",
   "execution_count": 16,
   "id": "6c00aa8b-e33a-464f-b231-e6c72b44197c",
   "metadata": {},
   "outputs": [
    {
     "name": "stdin",
     "output_type": "stream",
     "text": [
      " 10\n",
      " 3\n"
     ]
    },
    {
     "name": "stdout",
     "output_type": "stream",
     "text": [
      "Addition: 13\n",
      "Subtraction: 7\n",
      "Multiplication: 30\n",
      "Division: 3.3333333333333335\n",
      "Modulus: 1\n",
      "Exponentiation: 1000\n",
      "Floor Division: 3\n"
     ]
    }
   ],
   "source": [
    "#program 1-arthmatic\n",
    "a=int(input())\n",
    "b=int(input())\n",
    "print(\"Addition:\",a+b)\n",
    "print(\"Subtraction:\",a-b)\n",
    "print(\"Multiplication:\",a*b)\n",
    "print(\"Division:\",a/b)\n",
    "print(\"Modulus:\",a%b)\n",
    "print(\"Exponentiation:\",a**b)\n",
    "print(\"Floor Division:\",a//b)"
   ]
  },
  {
   "cell_type": "code",
   "execution_count": 19,
   "id": "715328cd-7c14-4524-91b1-a4e9d5e17852",
   "metadata": {},
   "outputs": [
    {
     "name": "stdin",
     "output_type": "stream",
     "text": [
      "enter first number: 23\n",
      "enter second number: 12\n"
     ]
    },
    {
     "name": "stdout",
     "output_type": "stream",
     "text": [
      "first number is greater than second number\n"
     ]
    }
   ],
   "source": [
    "#program 2\n",
    "a=int(input(\"enter first number:\"))\n",
    "b=int(input(\"enter second number:\"))\n",
    "if a>b:\n",
    "    print(\"first number is greater than second number\")\n",
    "elif a==b:\n",
    "     print(\"first number is equal to second number\")\n",
    "elif a<=b:\n",
    "     print(\"first number is less than or equal to the second\")\n",
    "else:\n",
    "     print(\"do nothing\")"
   ]
  },
  {
   "cell_type": "code",
   "execution_count": 11,
   "id": "0d1b65bc-a0e9-49d8-b631-ace774f6f934",
   "metadata": {},
   "outputs": [
    {
     "name": "stdout",
     "output_type": "stream",
     "text": [
      "False\n",
      "False\n",
      "True\n",
      "False\n",
      "True\n",
      "True\n",
      "True\n",
      "True\n",
      "False\n",
      "True\n",
      "False\n"
     ]
    }
   ],
   "source": [
    "#program 3\n",
    "a=True\n",
    "b=False\n",
    "c=True\n",
    "print(a and b)\n",
    "print(b and a)\n",
    "print(a and c)\n",
    "print(b and c)\n",
    "print(a or b)\n",
    "print(b or a)\n",
    "print(a or c)\n",
    "print(b or c)\n",
    "print(not a)\n",
    "print(not b)\n",
    "print(not c)"
   ]
  },
  {
   "cell_type": "code",
   "execution_count": 2,
   "id": "fb182032-11ee-47f3-94c6-3c2ceb80b1e5",
   "metadata": {},
   "outputs": [
    {
     "name": "stdin",
     "output_type": "stream",
     "text": [
      "enter your name= Bhumi\n",
      "enter your age= 18\n"
     ]
    },
    {
     "name": "stdout",
     "output_type": "stream",
     "text": [
      "Hello Bhumi you are 18 years old\n"
     ]
    }
   ],
   "source": [
    "#program 5\n",
    "name=input(\"enter your name=\")\n",
    "age=int(input(\"enter your age=\"))\n",
    "print(\"Hello\",name,\"you are\",age,\"years old\")\n"
   ]
  },
  {
   "cell_type": "code",
   "execution_count": 3,
   "id": "ab400d22-45c2-4832-9c76-4d67e9e862e0",
   "metadata": {},
   "outputs": [
    {
     "name": "stdin",
     "output_type": "stream",
     "text": [
      "Write a sentence: i like ice-cream!!\n",
      "Enter the word you want search for: like\n"
     ]
    },
    {
     "name": "stdout",
     "output_type": "stream",
     "text": [
      "2\n"
     ]
    }
   ],
   "source": [
    "#program 6\n",
    "r=input(\"Write a sentence:\")\n",
    "s=input(\"Enter the word you want search for:\")\n",
    "print(r.index(s)) "
   ]
  },
  {
   "cell_type": "code",
   "execution_count": 2,
   "id": "32d4e34b-67eb-4638-8ee8-c83426c55a59",
   "metadata": {},
   "outputs": [
    {
     "name": "stdin",
     "output_type": "stream",
     "text": [
      "enter the number 1: 3\n",
      "enter the number 2: 7\n",
      "enter the number 3: 8\n",
      "enter the number 4: 9\n",
      "enter the number 5: 2\n"
     ]
    },
    {
     "name": "stdout",
     "output_type": "stream",
     "text": [
      "[(3, 7, 8, 9)]\n",
      "27\n",
      "9\n",
      "3\n"
     ]
    }
   ],
   "source": [
    "#program 7\n",
    "a=int(input(\"enter the number 1:\"))\n",
    "b=int(input(\"enter the number 2:\"))\n",
    "c=int(input(\"enter the number 3:\"))\n",
    "d=int(input(\"enter the number 4:\"))\n",
    "e=int(input(\"enter the number 5:\"))\n",
    "f=(a,b,c,d)\n",
    "print([f])\n",
    "print(sum(f))\n",
    "print(max(f))\n",
    "print(min(f))"
   ]
  },
  {
   "cell_type": "code",
   "execution_count": 4,
   "id": "891415cb-9113-428a-9887-9f83ddeb7172",
   "metadata": {},
   "outputs": [
    {
     "name": "stdout",
     "output_type": "stream",
     "text": [
      "['apple', 'mango', 'grape', 'orange', 'watermelon']\n",
      "['apple', 'mango', 'grape', 'orange', 'watermelon', 'pineapple']\n",
      "['apple', 'mango', 'orange', 'watermelon', 'pineapple']\n"
     ]
    }
   ],
   "source": [
    "#program 8\n",
    "fruits=['apple','mango','grape','orange','watermelon']\n",
    "print(fruits)\n",
    "fruits.append('pineapple')\n",
    "print(fruits)\n",
    "fruits.remove('grape')\n",
    "print(fruits)"
   ]
  },
  {
   "cell_type": "code",
   "execution_count": 2,
   "id": "afba12b1-3206-448b-b1f7-9542a1b6a5f3",
   "metadata": {},
   "outputs": [
    {
     "name": "stdin",
     "output_type": "stream",
     "text": [
      "Enter the number 1:  23\n",
      "Enter the number 2:  6\n",
      "Enter the number 3:  90\n",
      "Enter the number 4:  76\n",
      "Enter the number 5:  0\n"
     ]
    },
    {
     "name": "stdout",
     "output_type": "stream",
     "text": [
      "Ascending Order of the list:  [0, 6, 23, 76, 90]\n",
      "Descending Order of the list:  [90, 76, 23, 6, 0]\n"
     ]
    }
   ],
   "source": [
    "#program 9\n",
    "A = int(input(\"Enter the number 1: \"))\n",
    "B = int(input(\"Enter the number 2: \"))\n",
    "C = int(input(\"Enter the number 3: \"))\n",
    "D = int(input(\"Enter the number 4: \"))\n",
    "E = int(input(\"Enter the number 5: \"))\n",
    "f = [A, B, C, D, E]\n",
    "f.sort()\n",
    "print(\"Ascending Order of the list: \", f)\n",
    "f.sort(reverse=True)\n",
    "print(\"Descending Order of the list: \", f)"
   ]
  },
  {
   "cell_type": "code",
   "execution_count": 3,
   "id": "1c1a9477-c291-4723-94ad-1e851eebe12d",
   "metadata": {},
   "outputs": [
    {
     "name": "stdout",
     "output_type": "stream",
     "text": [
      "[1, 2, 3, 4, 5]\n",
      "[6, 7, 8, 9, 10]\n",
      "[2, 3, 4, 5, 6, 7]\n"
     ]
    }
   ],
   "source": [
    "#program 10\n",
    "Numbers=[1,2,3,4,5,6,7,8,9,10]\n",
    "print(Numbers[:5])\n",
    "print(Numbers[-5:])\n",
    "print(Numbers[1:7])"
   ]
  },
  {
   "cell_type": "code",
   "execution_count": 5,
   "id": "19aca2f3-3790-45c1-9142-2b59269656f2",
   "metadata": {},
   "outputs": [
    {
     "name": "stdin",
     "output_type": "stream",
     "text": [
      "enter the string  Bhumika Ravi\n"
     ]
    },
    {
     "name": "stdout",
     "output_type": "stream",
     "text": [
      "12\n",
      "B i\n",
      "ivaR akimuhB\n",
      "BHUMIKA RAVI\n",
      "bhumika ravi\n"
     ]
    }
   ],
   "source": [
    "#program 4\n",
    "a=input(\"enter the string \")\n",
    "print(len(a))\n",
    "print(a[0],a[-1])\n",
    "print(a[::-1])\n",
    "print(a.upper())\n",
    "print(a.lower())"
   ]
  },
  {
   "cell_type": "code",
   "execution_count": 2,
   "id": "abb177db-a8da-4071-85e8-94e36fe06e09",
   "metadata": {},
   "outputs": [
    {
     "name": "stdin",
     "output_type": "stream",
     "text": [
      "Enter student name:  Anushree\n",
      "Enter score 1:  76\n",
      "Enter score 2:  90\n",
      "Enter score 3:  89\n",
      "Enter student name:  Bhumi\n",
      "Enter score 1:  99\n",
      "Enter score 2:  90\n",
      "Enter score 3:  98\n",
      "Enter student name:  catty\n",
      "Enter score 1:  45\n",
      "Enter score 2:  87\n",
      "Enter score 3:  90\n"
     ]
    },
    {
     "name": "stdout",
     "output_type": "stream",
     "text": [
      "Anushree 's average score: 85.0\n",
      "Bhumi 's average score: 95.66666666666667\n",
      "catty 's average score: 74.0\n"
     ]
    }
   ],
   "source": [
    "#bonus question\n",
    "students = []\n",
    "for _ in range(3):\n",
    "    name = input(\"Enter student name: \")\n",
    "    scores = [float(input(f\"Enter score {i+1}: \")) for i in range(3)]\n",
    "    students.append([name, scores])\n",
    "\n",
    "for student in students:\n",
    "    avg = sum(student[1]) / 3\n",
    "    print(student[0], \"'s average score:\", avg)"
   ]
  },
  {
   "cell_type": "markdown",
   "id": "e3905b5c-dc92-46f6-b000-df59583c5034",
   "metadata": {},
   "source": [
    "###### "
   ]
  }
 ],
 "metadata": {
  "kernelspec": {
   "display_name": "Python 3 (ipykernel)",
   "language": "python",
   "name": "python3"
  },
  "language_info": {
   "codemirror_mode": {
    "name": "ipython",
    "version": 3
   },
   "file_extension": ".py",
   "mimetype": "text/x-python",
   "name": "python",
   "nbconvert_exporter": "python",
   "pygments_lexer": "ipython3",
   "version": "3.12.4"
  }
 },
 "nbformat": 4,
 "nbformat_minor": 5
}
